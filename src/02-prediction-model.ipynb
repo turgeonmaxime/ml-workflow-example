{
 "cells": [
  {
   "cell_type": "code",
   "execution_count": 1,
   "id": "c9f18e34",
   "metadata": {},
   "outputs": [],
   "source": [
    "import pandas as pd\n",
    "import numpy as np\n",
    "\n",
    "from sklearn.pipeline import Pipeline\n",
    "from sklearn.compose import ColumnTransformer\n",
    "from sklearn.preprocessing import OneHotEncoder, PowerTransformer, SplineTransformer\n",
    "\n",
    "from sklearn.model_selection import train_test_split\n",
    "from sklearn.linear_model import ElasticNet, ElasticNetCV\n",
    "\n",
    "from sklearn.metrics import r2_score, mean_squared_error, mean_absolute_percentage_error\n",
    "import matplotlib.pyplot as plt\n",
    "from joblib import dump"
   ]
  },
  {
   "cell_type": "code",
   "execution_count": 2,
   "id": "cb674c97",
   "metadata": {},
   "outputs": [],
   "source": [
    "data = pd.read_csv(\"../data/wage_model.csv\")\n",
    "data = data.drop(columns = ['wage', 'region'])\n",
    "y = data['logwage']"
   ]
  },
  {
   "cell_type": "code",
   "execution_count": 3,
   "id": "0215420e",
   "metadata": {},
   "outputs": [
    {
     "data": {
      "text/html": [
       "<div>\n",
       "<style scoped>\n",
       "    .dataframe tbody tr th:only-of-type {\n",
       "        vertical-align: middle;\n",
       "    }\n",
       "\n",
       "    .dataframe tbody tr th {\n",
       "        vertical-align: top;\n",
       "    }\n",
       "\n",
       "    .dataframe thead th {\n",
       "        text-align: right;\n",
       "    }\n",
       "</style>\n",
       "<table border=\"1\" class=\"dataframe\">\n",
       "  <thead>\n",
       "    <tr style=\"text-align: right;\">\n",
       "      <th></th>\n",
       "      <th>year</th>\n",
       "      <th>age</th>\n",
       "      <th>maritl</th>\n",
       "      <th>race</th>\n",
       "      <th>education</th>\n",
       "      <th>jobclass</th>\n",
       "      <th>health</th>\n",
       "      <th>health_ins</th>\n",
       "      <th>logwage</th>\n",
       "    </tr>\n",
       "  </thead>\n",
       "  <tbody>\n",
       "    <tr>\n",
       "      <th>0</th>\n",
       "      <td>2003</td>\n",
       "      <td>45</td>\n",
       "      <td>2. Married</td>\n",
       "      <td>1. White</td>\n",
       "      <td>3. Some College</td>\n",
       "      <td>1. Industrial</td>\n",
       "      <td>1. &lt;=Good</td>\n",
       "      <td>1. Yes</td>\n",
       "      <td>4.875061</td>\n",
       "    </tr>\n",
       "    <tr>\n",
       "      <th>1</th>\n",
       "      <td>2006</td>\n",
       "      <td>50</td>\n",
       "      <td>2. Married</td>\n",
       "      <td>1. White</td>\n",
       "      <td>5. Advanced Degree</td>\n",
       "      <td>2. Information</td>\n",
       "      <td>2. &gt;=Very Good</td>\n",
       "      <td>2. No</td>\n",
       "      <td>5.360552</td>\n",
       "    </tr>\n",
       "    <tr>\n",
       "      <th>2</th>\n",
       "      <td>2003</td>\n",
       "      <td>38</td>\n",
       "      <td>2. Married</td>\n",
       "      <td>3. Asian</td>\n",
       "      <td>4. College Grad</td>\n",
       "      <td>2. Information</td>\n",
       "      <td>2. &gt;=Very Good</td>\n",
       "      <td>2. No</td>\n",
       "      <td>5.301030</td>\n",
       "    </tr>\n",
       "    <tr>\n",
       "      <th>3</th>\n",
       "      <td>2005</td>\n",
       "      <td>40</td>\n",
       "      <td>4. Divorced</td>\n",
       "      <td>1. White</td>\n",
       "      <td>2. HS Grad</td>\n",
       "      <td>2. Information</td>\n",
       "      <td>2. &gt;=Very Good</td>\n",
       "      <td>2. No</td>\n",
       "      <td>3.920123</td>\n",
       "    </tr>\n",
       "    <tr>\n",
       "      <th>4</th>\n",
       "      <td>2007</td>\n",
       "      <td>40</td>\n",
       "      <td>2. Married</td>\n",
       "      <td>1. White</td>\n",
       "      <td>4. College Grad</td>\n",
       "      <td>2. Information</td>\n",
       "      <td>2. &gt;=Very Good</td>\n",
       "      <td>2. No</td>\n",
       "      <td>5.079181</td>\n",
       "    </tr>\n",
       "    <tr>\n",
       "      <th>...</th>\n",
       "      <td>...</td>\n",
       "      <td>...</td>\n",
       "      <td>...</td>\n",
       "      <td>...</td>\n",
       "      <td>...</td>\n",
       "      <td>...</td>\n",
       "      <td>...</td>\n",
       "      <td>...</td>\n",
       "      <td>...</td>\n",
       "    </tr>\n",
       "    <tr>\n",
       "      <th>995</th>\n",
       "      <td>2005</td>\n",
       "      <td>40</td>\n",
       "      <td>2. Married</td>\n",
       "      <td>1. White</td>\n",
       "      <td>4. College Grad</td>\n",
       "      <td>1. Industrial</td>\n",
       "      <td>2. &gt;=Very Good</td>\n",
       "      <td>1. Yes</td>\n",
       "      <td>4.875061</td>\n",
       "    </tr>\n",
       "    <tr>\n",
       "      <th>996</th>\n",
       "      <td>2008</td>\n",
       "      <td>32</td>\n",
       "      <td>1. Never Married</td>\n",
       "      <td>1. White</td>\n",
       "      <td>4. College Grad</td>\n",
       "      <td>2. Information</td>\n",
       "      <td>2. &gt;=Very Good</td>\n",
       "      <td>1. Yes</td>\n",
       "      <td>5.000000</td>\n",
       "    </tr>\n",
       "    <tr>\n",
       "      <th>997</th>\n",
       "      <td>2009</td>\n",
       "      <td>50</td>\n",
       "      <td>2. Married</td>\n",
       "      <td>2. Black</td>\n",
       "      <td>2. HS Grad</td>\n",
       "      <td>1. Industrial</td>\n",
       "      <td>2. &gt;=Very Good</td>\n",
       "      <td>2. No</td>\n",
       "      <td>4.886491</td>\n",
       "    </tr>\n",
       "    <tr>\n",
       "      <th>998</th>\n",
       "      <td>2007</td>\n",
       "      <td>35</td>\n",
       "      <td>2. Married</td>\n",
       "      <td>1. White</td>\n",
       "      <td>1. &lt; HS Grad</td>\n",
       "      <td>1. Industrial</td>\n",
       "      <td>1. &lt;=Good</td>\n",
       "      <td>2. No</td>\n",
       "      <td>4.698970</td>\n",
       "    </tr>\n",
       "    <tr>\n",
       "      <th>999</th>\n",
       "      <td>2005</td>\n",
       "      <td>27</td>\n",
       "      <td>1. Never Married</td>\n",
       "      <td>1. White</td>\n",
       "      <td>3. Some College</td>\n",
       "      <td>1. Industrial</td>\n",
       "      <td>2. &gt;=Very Good</td>\n",
       "      <td>1. Yes</td>\n",
       "      <td>4.477121</td>\n",
       "    </tr>\n",
       "  </tbody>\n",
       "</table>\n",
       "<p>1000 rows × 9 columns</p>\n",
       "</div>"
      ],
      "text/plain": [
       "     year  age            maritl      race           education  \\\n",
       "0    2003   45        2. Married  1. White     3. Some College   \n",
       "1    2006   50        2. Married  1. White  5. Advanced Degree   \n",
       "2    2003   38        2. Married  3. Asian     4. College Grad   \n",
       "3    2005   40       4. Divorced  1. White          2. HS Grad   \n",
       "4    2007   40        2. Married  1. White     4. College Grad   \n",
       "..    ...  ...               ...       ...                 ...   \n",
       "995  2005   40        2. Married  1. White     4. College Grad   \n",
       "996  2008   32  1. Never Married  1. White     4. College Grad   \n",
       "997  2009   50        2. Married  2. Black          2. HS Grad   \n",
       "998  2007   35        2. Married  1. White        1. < HS Grad   \n",
       "999  2005   27  1. Never Married  1. White     3. Some College   \n",
       "\n",
       "           jobclass          health health_ins   logwage  \n",
       "0     1. Industrial       1. <=Good     1. Yes  4.875061  \n",
       "1    2. Information  2. >=Very Good      2. No  5.360552  \n",
       "2    2. Information  2. >=Very Good      2. No  5.301030  \n",
       "3    2. Information  2. >=Very Good      2. No  3.920123  \n",
       "4    2. Information  2. >=Very Good      2. No  5.079181  \n",
       "..              ...             ...        ...       ...  \n",
       "995   1. Industrial  2. >=Very Good     1. Yes  4.875061  \n",
       "996  2. Information  2. >=Very Good     1. Yes  5.000000  \n",
       "997   1. Industrial  2. >=Very Good      2. No  4.886491  \n",
       "998   1. Industrial       1. <=Good      2. No  4.698970  \n",
       "999   1. Industrial  2. >=Very Good     1. Yes  4.477121  \n",
       "\n",
       "[1000 rows x 9 columns]"
      ]
     },
     "execution_count": 3,
     "metadata": {},
     "output_type": "execute_result"
    }
   ],
   "source": [
    "data"
   ]
  },
  {
   "cell_type": "code",
   "execution_count": 4,
   "id": "412ebaa1",
   "metadata": {},
   "outputs": [],
   "source": [
    "column_trans = ColumnTransformer(\n",
    "    [('categorical', OneHotEncoder(dtype='int'), ['maritl', 'race', 'education', 'jobclass', \n",
    "                                                  'health', 'health_ins']),\n",
    "     ('sp', Pipeline([('YJ', PowerTransformer()), ('spline', SplineTransformer())]), ['year', 'age'])]\n",
    ")\n",
    "\n",
    "column_trans.fit(data)\n",
    "X = column_trans.transform(data)"
   ]
  },
  {
   "cell_type": "code",
   "execution_count": 5,
   "id": "5aba84b5",
   "metadata": {
    "scrolled": true
   },
   "outputs": [
    {
     "data": {
      "text/plain": [
       "array(['categorical__maritl_1. Never Married',\n",
       "       'categorical__maritl_2. Married', 'categorical__maritl_3. Widowed',\n",
       "       'categorical__maritl_4. Divorced',\n",
       "       'categorical__maritl_5. Separated', 'categorical__race_1. White',\n",
       "       'categorical__race_2. Black', 'categorical__race_3. Asian',\n",
       "       'categorical__race_4. Other',\n",
       "       'categorical__education_1. < HS Grad',\n",
       "       'categorical__education_2. HS Grad',\n",
       "       'categorical__education_3. Some College',\n",
       "       'categorical__education_4. College Grad',\n",
       "       'categorical__education_5. Advanced Degree',\n",
       "       'categorical__jobclass_1. Industrial',\n",
       "       'categorical__jobclass_2. Information',\n",
       "       'categorical__health_1. <=Good',\n",
       "       'categorical__health_2. >=Very Good',\n",
       "       'categorical__health_ins_1. Yes', 'categorical__health_ins_2. No',\n",
       "       'sp__year_sp_0', 'sp__year_sp_1', 'sp__year_sp_2', 'sp__year_sp_3',\n",
       "       'sp__year_sp_4', 'sp__year_sp_5', 'sp__year_sp_6', 'sp__age_sp_0',\n",
       "       'sp__age_sp_1', 'sp__age_sp_2', 'sp__age_sp_3', 'sp__age_sp_4',\n",
       "       'sp__age_sp_5', 'sp__age_sp_6'], dtype=object)"
      ]
     },
     "execution_count": 5,
     "metadata": {},
     "output_type": "execute_result"
    }
   ],
   "source": [
    "column_trans.get_feature_names_out()"
   ]
  },
  {
   "cell_type": "code",
   "execution_count": 6,
   "id": "1c9fd60a",
   "metadata": {},
   "outputs": [],
   "source": [
    "X_train, X_test, y_train, y_test = train_test_split(X, y, test_size=0.20, random_state=2022)"
   ]
  },
  {
   "cell_type": "code",
   "execution_count": 7,
   "id": "0750f559",
   "metadata": {},
   "outputs": [
    {
     "data": {
      "text/plain": [
       "ElasticNetCV(cv=5, random_state=2022)"
      ]
     },
     "execution_count": 7,
     "metadata": {},
     "output_type": "execute_result"
    }
   ],
   "source": [
    "regr = ElasticNetCV(cv=5, random_state=2022)\n",
    "regr.fit(X_train, y_train)"
   ]
  },
  {
   "cell_type": "code",
   "execution_count": 8,
   "id": "fea8d1f6",
   "metadata": {},
   "outputs": [],
   "source": [
    "y_pred = regr.predict(X_test)"
   ]
  },
  {
   "cell_type": "code",
   "execution_count": 9,
   "id": "3170524a",
   "metadata": {},
   "outputs": [
    {
     "name": "stdout",
     "output_type": "stream",
     "text": [
      "Metric | Value\n",
      "----------------\n",
      "R2     | 37.53%\n",
      "MSE    | 0.0793\n",
      "RMSE   | 0.2816\n",
      "MAPE   | 4.40%\n",
      "\n"
     ]
    }
   ],
   "source": [
    "metrics_fun = [r2_score, mean_squared_error, mean_absolute_percentage_error]\n",
    "\n",
    "metrics_res = [fun(y_test, y_pred) for fun in metrics_fun]\n",
    "\n",
    "print (\n",
    "    f'Metric | Value\\n'\n",
    "     '----------------\\n'\n",
    "    f'R2     | {metrics_res[0]:>.2%}\\n'\n",
    "    f'MSE    | {metrics_res[1]:>.4f}\\n'\n",
    "    f'RMSE   | {np.sqrt(metrics_res[1]):>.4f}\\n'\n",
    "    f'MAPE   | {metrics_res[2]:>.2%}\\n'\n",
    ")"
   ]
  },
  {
   "cell_type": "code",
   "execution_count": 10,
   "id": "9ba8b067",
   "metadata": {},
   "outputs": [
    {
     "data": {
      "image/png": "[encoded data removed]",
      "text/plain": [
       "<Figure size 432x288 with 1 Axes>"
      ]
     },
     "metadata": {
      "needs_background": "light"
     },
     "output_type": "display_data"
    }
   ],
   "source": [
    "plt.scatter(y_test, y_pred)\n",
    "plt.axline((np.mean(y_test), np.mean(y_test)), slope=1, color = 'black')\n",
    "plt.xlabel(\"Actual values (logwage)\")\n",
    "plt.ylabel(\"Predicted values (logwage)\")\n",
    "plt.show()"
   ]
  },
  {
   "cell_type": "code",
   "execution_count": 11,
   "id": "91cdac8a",
   "metadata": {},
   "outputs": [
    {
     "data": {
      "image/png": "[encoded data removed]",
      "text/plain": [
       "<Figure size 432x288 with 2 Axes>"
      ]
     },
     "metadata": {
      "needs_background": "light"
     },
     "output_type": "display_data"
    }
   ],
   "source": [
    "data = {'apple': 10, 'orange': 15, 'lemon': 5, 'lime': 20}\n",
    "names = list(data.keys())\n",
    "values = list(data.values())\n",
    "\n",
    "fig, axs = plt.subplots(1, 2, sharex = True, sharey = True)\n",
    "axs[0].hist(y_test - np.mean(y_test))\n",
    "axs[0].set_xlabel('Actual values (centered)')\n",
    "axs[0].set_title(f'SD: {np.std(y_test):.2f}')\n",
    "axs[1].hist(y_test - y_pred)\n",
    "axs[1].set_xlabel('Residuals')\n",
    "axs[1].set_title(f'SD: {np.std(y_test - y_pred):.2f}')\n",
    "fig.suptitle('Comparing variation in test data vs residuals',\n",
    "             weight = 'bold')\n",
    "plt.show()"
   ]
  },
  {
   "cell_type": "code",
   "execution_count": 12,
   "id": "f7ffc6a6",
   "metadata": {},
   "outputs": [
    {
     "data": {
      "text/plain": [
       "ElasticNet(alpha=0.0043781170805865)"
      ]
     },
     "execution_count": 12,
     "metadata": {},
     "output_type": "execute_result"
    }
   ],
   "source": [
    "final_regr = ElasticNet(alpha=regr.alpha_)\n",
    "final_regr.fit(X, y)"
   ]
  },
  {
   "cell_type": "code",
   "execution_count": 13,
   "id": "1b7dca79",
   "metadata": {},
   "outputs": [
    {
     "data": {
      "text/plain": [
       "['../artifacts/final_regr.joblib']"
      ]
     },
     "execution_count": 13,
     "metadata": {},
     "output_type": "execute_result"
    }
   ],
   "source": [
    "dump(column_trans, '../artifacts/column_trans.joblib')\n",
    "dump(final_regr, '../artifacts/final_regr.joblib')"
   ]
  }
 ],
 "metadata": {
  "kernelspec": {
   "display_name": "Python 3 (ipykernel)",
   "language": "python",
   "name": "python3"
  },
  "language_info": {
   "codemirror_mode": {
    "name": "ipython",
    "version": 3
   },
   "file_extension": ".py",
   "mimetype": "text/x-python",
   "name": "python",
   "nbconvert_exporter": "python",
   "pygments_lexer": "ipython3",
   "version": "3.9.12"
  }
 },
 "nbformat": 4,
 "nbformat_minor": 5
}
